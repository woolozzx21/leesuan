{
  "nbformat": 4,
  "nbformat_minor": 0,
  "metadata": {
    "colab": {
      "name": "OpenCV_Python_영상에_그림_그리기.ipynb",
      "provenance": [],
      "collapsed_sections": [],
      "include_colab_link": true
    },
    "kernelspec": {
      "name": "python3",
      "display_name": "Python 3"
    },
    "language_info": {
      "name": "python"
    }
  },
  "cells": [
    {
      "cell_type": "markdown",
      "metadata": {
        "id": "view-in-github",
        "colab_type": "text"
      },
      "source": [
        "<a href=\"https://colab.research.google.com/github/woolozzx21/leesuan/blob/main/OpenCV_Python_%EC%98%81%EC%83%81%EC%97%90_%EA%B7%B8%EB%A6%BC_%EA%B7%B8%EB%A6%AC%EA%B8%B0.ipynb\" target=\"_parent\"><img src=\"https://colab.research.google.com/assets/colab-badge.svg\" alt=\"Open In Colab\"/></a>"
      ]
    },
    {
      "cell_type": "code",
      "execution_count": null,
      "metadata": {
        "id": "-cgj8_z2S85y"
      },
      "outputs": [],
      "source": [
        "# 실습용 데이터 다운로드\n",
        "!git clone https://github.com/JinFree/OpenCV_in_Ubuntu\n",
        "\n",
        "# 기본 라이브러리 Import\n",
        "import cv2\n",
        "import numpy as np\n",
        "import os\n",
        "from google.colab.patches import cv2_imshow"
      ]
    },
    {
      "cell_type": "code",
      "source": [
        "# 컬러 이미지 열기\n",
        "image_color = cv2.imread(\"/content/OpenCV_in_Ubuntu/Data/Lane_Detection_Images/solidWhiteCurve.jpg\", cv2.IMREAD_COLOR)\n",
        "cv2_imshow(image_color)\n",
        "# 회색조 이미지 열기\n",
        "image_gray = cv2.imread(\"/content/OpenCV_in_Ubuntu/Data/Lane_Detection_Images/solidWhiteCurve.jpg\", cv2.IMREAD_GRAYSCALE)\n",
        "cv2_imshow(image_gray)"
      ],
      "metadata": {
        "id": "ZaQwNSm5TDbX"
      },
      "execution_count": null,
      "outputs": []
    },
    {
      "cell_type": "markdown",
      "source": [
        "###이미지에 선 그리기\n",
        "\n",
        "\n",
        "```\n",
        "pt1 = (x1, y1)\n",
        "pt2 = (x2, y2)\n",
        "color = (0, 255, 0)\n",
        "thickness = 3\n",
        "dst_image = np.copy(src_image)\n",
        "cv2.line(dst_image, pt1, pt2, color, thickness)\n",
        "```\n",
        "\n"
      ],
      "metadata": {
        "id": "fYKakJvkaGid"
      }
    },
    {
      "cell_type": "code",
      "source": [
        "pt1 = (190, 300)\n",
        "pt2 = (190, 350)\n",
        "pt3 = (280, 350)\n",
        "pt4 = (280, 300)\n",
        "color = (0, 0, 255)\n",
        "thickness = 5\n",
        "\n",
        "line_image = np.copy(image_color)\n",
        "cv2.line(line_image, pt1, pt2, color, thickness)\n",
        "cv2.line(line_image, pt2, pt3, color, thickness)\n",
        "cv2.line(line_image, pt3, pt4, color, thickness)\n",
        "cv2.line(line_image, pt4, pt1, color, thickness)\n",
        "cv2_imshow(line_image)"
      ],
      "metadata": {
        "id": "tYYvnpEzamxD"
      },
      "execution_count": null,
      "outputs": []
    },
    {
      "cell_type": "markdown",
      "source": [
        "###박스 그리기\n",
        "\n",
        "\n",
        "```\n",
        "pt1 = (190, 300)\n",
        "pt2 = (280, 350)\n",
        "color = (0, 0, 255)\n",
        "thickness = 5\n",
        "dst_image = np.copy(src_image)\n",
        "cv2.rectangle(dst_image, pt1, pt2, color, thickness)\n",
        "이 때, thickness = -1이면 사각형 내부를 채워서 그림\n",
        "```\n",
        "\n"
      ],
      "metadata": {
        "id": "QyU3AQHcgz2L"
      }
    },
    {
      "cell_type": "code",
      "source": [
        "pt1 = (190, 300)\n",
        "pt2 = (280, 350)\n",
        "color = (0, 0, 255)\n",
        "thickness = 5\n",
        "dst_image = np.copy(image_color)\n",
        "cv2.rectangle(dst_image, pt1, pt2, color, thickness)\n",
        "cv2_imshow(dst_image)\n",
        "\n",
        "dst_image = np.copy(image_color)\n",
        "cv2.rectangle(dst_image, pt1, pt2, color, -1)\n",
        "cv2_imshow(dst_image)"
      ],
      "metadata": {
        "id": "-otOH3OehRMk"
      },
      "execution_count": null,
      "outputs": []
    },
    {
      "cell_type": "markdown",
      "source": [
        "### 실습\n",
        "\n",
        "/content/OpenCV_in_Ubuntu/Data/Lane_Detection_Images/solidWhiteCurve.jpg\n",
        "\n",
        "위 경로의 이미지를 연 후, 가능한 모든 차량에 박스를 그리시오."
      ],
      "metadata": {
        "id": "5y-u3-TfWDij"
      }
    },
    {
      "cell_type": "code",
      "source": [
        "### 여기에 실습을 진행하세요."
      ],
      "metadata": {
        "id": "jw2phj59WLIb"
      },
      "execution_count": null,
      "outputs": []
    },
    {
      "cell_type": "markdown",
      "source": [
        "###원 그리기\n",
        "\n",
        "\n",
        "```\n",
        "center = (190, 300)\n",
        "radius = 32\n",
        "color = (0, 0, 255)\n",
        "thickness = 5\n",
        "dst_image = np.copy(image_color)\n",
        "cv2.circle(dst_image, center, radius, color, thickness)\n",
        "이 때, thickness = -1이면 원 내부를 채워서 그림\n",
        "```\n",
        "\n"
      ],
      "metadata": {
        "id": "TdTIwbOqhQ8I"
      }
    },
    {
      "cell_type": "code",
      "source": [
        "center = (190, 300)\n",
        "radius = 32\n",
        "color = (0, 0, 255)\n",
        "thickness = 5\n",
        "dst_image = np.copy(image_color)\n",
        "cv2.circle(dst_image, center, radius, color, thickness)\n",
        "cv2_imshow(dst_image)\n",
        "\n",
        "dst_image = np.copy(image_color)\n",
        "cv2.circle(dst_image, center, radius, color, -1)\n",
        "cv2_imshow(dst_image)"
      ],
      "metadata": {
        "id": "PhUwQLqOrpdq"
      },
      "execution_count": null,
      "outputs": []
    },
    {
      "cell_type": "markdown",
      "source": [
        "###다각형 그리기\n",
        "\n",
        "\n",
        "```\n",
        "pt1 = (x1, y1)\n",
        "pt2 = (x2, y2)\n",
        "pt3 = (x3, y3)\n",
        "pt4 = (x4, y4)\n",
        "pt5 = (x5, y5)\n",
        "color = (0, 0, 255)\n",
        "\n",
        "다각형 선 그리기\n",
        "thickness = 5\n",
        "is_closed = True\n",
        "points = np.vstack((pt1, pt2, pt3, pt4, pt5)).astype(np.int32).reshape((-1, 1, 2))\n",
        "dst_image = np.copy(src_image)\n",
        "cv2.polylines(dst_image, [points], is_closed, color, thickness)\n",
        "\n",
        "\n",
        "다각형 내부 채워서 그리기\n",
        "dst_image = np.copy(src_image)\n",
        "points = np.array([[pt1, pt2, pt3, pt4, pt5]], dtype=np.int32)\n",
        "cv2.fillPoly(dst_image, points, color)\n",
        "```\n",
        "\n"
      ],
      "metadata": {
        "id": "gHLyLD3IszAc"
      }
    },
    {
      "cell_type": "code",
      "source": [
        "pt1 = (190, 300)\n",
        "pt2 = (190, 350)\n",
        "pt3 = (280, 350)\n",
        "pt4 = (280, 300)\n",
        "pt5 = (235, 250)\n",
        "color = (0, 0, 255)\n",
        "\n",
        "thickness = 5\n",
        "is_closed = True\n",
        "points = np.vstack((pt1, pt2, pt3, pt4, pt5)).astype(np.int32).reshape((-1, 1, 2))\n",
        "\n",
        "dst_image = np.copy(image_color)\n",
        "cv2.polylines(dst_image, [points], is_closed, color, thickness)\n",
        "cv2_imshow(dst_image)\n",
        "\n",
        "dst_image = np.copy(image_color)\n",
        "cv2.polylines(dst_image, [points], False, color, thickness)\n",
        "cv2_imshow(dst_image)\n",
        "\n",
        "dst_image = np.copy(image_color)\n",
        "points = np.array([[pt1, pt2, pt3, pt4, pt5]], dtype=np.int32)\n",
        "cv2.fillPoly(dst_image, points, color)\n",
        "cv2_imshow(dst_image)"
      ],
      "metadata": {
        "id": "NhUxEePGuW7-"
      },
      "execution_count": null,
      "outputs": []
    },
    {
      "cell_type": "markdown",
      "source": [
        "###글 쓰기\n",
        "\n",
        "\n",
        "\n",
        "```\n",
        "text = \"그림에 쓸 문자, 영어만 가능함\"\n",
        "point = (x1, y1)\n",
        "font = cv2.FONT_HERSHEY_SIMPLE\n",
        "font_scale = 2.0\n",
        "color = (0, 0, 255)\n",
        "thickness = 2\n",
        "dst_image = np.copy(src_image)\n",
        "cv2.putText(dst_image, text, point, font, font_scale, color, thickness)\n",
        "```\n",
        "\n",
        "[font의 종류](https://docs.opencv.org/4.x/d6/d6e/group__imgproc__draw.html)\n",
        "\n"
      ],
      "metadata": {
        "id": "kqtd-0novOvI"
      }
    },
    {
      "cell_type": "code",
      "source": [
        "font_scale = 1.5\n",
        "color = (0, 0, 255)\n",
        "thickness = 2\n",
        "dst_image = np.copy(image_color)\n",
        "cv2.putText(dst_image, \"cv2.FONT_HERSHEY_SIMPLEX\", (10, 50), cv2.FONT_HERSHEY_SIMPLEX, font_scale, color, thickness)\n",
        "cv2.putText(dst_image, \"cv2.FONT_HERSHEY_PLAIN\", (10, 100), cv2.FONT_HERSHEY_PLAIN, font_scale, color, thickness)\n",
        "cv2.putText(dst_image, \"cv2.FONT_HERSHEY_DUPLEX\", (10, 150), cv2.FONT_HERSHEY_DUPLEX, font_scale, color, thickness)\n",
        "cv2.putText(dst_image, \"cv2.FONT_HERSHEY_COMPLEX\", (10, 200), cv2.FONT_HERSHEY_COMPLEX, font_scale, color, thickness)\n",
        "cv2.putText(dst_image, \"cv2.FONT_HERSHEY_TRIPLEX\", (10, 250), cv2.FONT_HERSHEY_TRIPLEX, font_scale, color, thickness)\n",
        "cv2.putText(dst_image, \"cv2.FONT_HERSHEY_COMPLEX_SMALL\", (10, 300), cv2.FONT_HERSHEY_COMPLEX_SMALL, font_scale, color, thickness)\n",
        "cv2.putText(dst_image, \"cv2.FONT_HERSHEY_SCRIPT_SIMPLEX\", (10, 350), cv2.FONT_HERSHEY_SCRIPT_SIMPLEX, font_scale, color, thickness)\n",
        "cv2.putText(dst_image, \"cv2.FONT_HERSHEY_SCRIPT_COMPLEX\", (10, 400), cv2.FONT_HERSHEY_SCRIPT_COMPLEX, font_scale, color, thickness)\n",
        "cv2_imshow(dst_image)"
      ],
      "metadata": {
        "id": "sGP-UT3ywKqL"
      },
      "execution_count": null,
      "outputs": []
    },
    {
      "cell_type": "markdown",
      "source": [
        "### 실습\n",
        "\n",
        "/content/OpenCV_in_Ubuntu/Data/Road_Blackbox/image_01.png\n",
        "\n",
        "(235, 325)를 중심으로 하는 원을  두 개 그리시오.\n",
        "1. 반지름이 50이고 (235,325)의 색을 그대로 그린 원, 두께는 5\n",
        "2. 반지름이 2이고 검은색인 원, 두께는 -1\n",
        "\n",
        "(10, 50)의 위치에 두께는 5이고 검은색인 \"ROAD_IMAGE\" 문자열을 그리시오."
      ],
      "metadata": {
        "id": "YKGbD-64aPVm"
      }
    },
    {
      "cell_type": "code",
      "source": [
        "### 여기에 실습을 진행하세요."
      ],
      "metadata": {
        "id": "6yUUDktnaOrf"
      },
      "execution_count": null,
      "outputs": []
    }
  ]
}