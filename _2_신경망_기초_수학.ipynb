{
  "nbformat": 4,
  "nbformat_minor": 0,
  "metadata": {
    "colab": {
      "name": "_2 신경망 기초 수학",
      "provenance": [],
      "collapsed_sections": [],
      "include_colab_link": true
    },
    "kernelspec": {
      "name": "python3",
      "display_name": "Python 3"
    }
  },
  "cells": [
    {
      "cell_type": "markdown",
      "metadata": {
        "id": "view-in-github",
        "colab_type": "text"
      },
      "source": [
        "<a href=\"https://colab.research.google.com/github/woolozzx21/leesuan/blob/main/_2_%EC%8B%A0%EA%B2%BD%EB%A7%9D_%EA%B8%B0%EC%B4%88_%EC%88%98%ED%95%99.ipynb\" target=\"_parent\"><img src=\"https://colab.research.google.com/assets/colab-badge.svg\" alt=\"Open In Colab\"/></a>"
      ]
    },
    {
      "cell_type": "markdown",
      "metadata": {
        "id": "00cnU7trlPhw"
      },
      "source": [
        "# 신경망 기초 수학"
      ]
    },
    {
      "cell_type": "code",
      "metadata": {
        "id": "8u1CbzYh8hpc"
      },
      "source": [
        "import math\n",
        "import numpy as np\n",
        "import matplotlib.pyplot as plt\n",
        "plt.style.use(['seaborn-whitegrid'])"
      ],
      "execution_count": 5,
      "outputs": []
    },
    {
      "cell_type": "markdown",
      "metadata": {
        "id": "a7M6K7hrlUF0"
      },
      "source": [
        "## 일차함수\n",
        "* $y = ax + b$\n",
        "  + $a$: 기울기, $b$: y절편\n",
        "* 그래프 상에서 직선인 그래프(linear)"
      ]
    },
    {
      "cell_type": "code",
      "metadata": {
        "id": "JR7M75Zv8v7h"
      },
      "source": [
        "def linear_function(x):\n",
        "    a = 0.5\n",
        "    b = 2\n",
        "    return a * x + b"
      ],
      "execution_count": 2,
      "outputs": []
    },
    {
      "cell_type": "code",
      "metadata": {
        "id": "CujVzsDX8xcx",
        "colab": {
          "base_uri": "https://localhost:8080/"
        },
        "outputId": "bb520cfd-aee1-4615-c1be-9790b1e82404"
      },
      "source": [
        "print(linear_function(5))"
      ],
      "execution_count": 3,
      "outputs": [
        {
          "output_type": "stream",
          "name": "stdout",
          "text": [
            "4.5\n"
          ]
        }
      ]
    },
    {
      "cell_type": "code",
      "metadata": {
        "id": "2NBAAMqQjr_A",
        "colab": {
          "base_uri": "https://localhost:8080/",
          "height": 291
        },
        "outputId": "98c93add-d96e-42ec-909c-6f46a6d79f1e"
      },
      "source": [
        "x = np.arange(-5,5,0.1)\n",
        "y = linear_function(x)\n",
        "\n",
        "plt.plot(x,y)\n",
        "plt.xlabel('x')\n",
        "plt.ylabel('y')\n",
        "plt.title(\"Linear Function\")\n",
        "plt.show()"
      ],
      "execution_count": 7,
      "outputs": [
        {
          "output_type": "display_data",
          "data": {
            "image/png": "[encoded data removed]",
            "text/plain": [
              "<Figure size 432x288 with 1 Axes>"
            ]
          },
          "metadata": {}
        }
      ]
    },
    {
      "cell_type": "markdown",
      "metadata": {
        "id": "s8CVX7YUm4pr"
      },
      "source": [
        "## 이차함수\n",
        "* $y = ax^2 + bx + c$\n",
        "* 일반적으로 두 개의 실근을 가짐"
      ]
    },
    {
      "cell_type": "code",
      "metadata": {
        "id": "bctIOw-T8yyo"
      },
      "source": [
        "def quadratic_function(x):\n",
        "    a=1\n",
        "    b = -1\n",
        "    c = -2\n",
        "\n",
        "    return a*x**2 + b*x + c"
      ],
      "execution_count": 9,
      "outputs": []
    },
    {
      "cell_type": "code",
      "metadata": {
        "id": "n9Zc7d1l870D",
        "colab": {
          "base_uri": "https://localhost:8080/"
        },
        "outputId": "1e80d1f1-bc7a-4e3a-9849-26602bf9c62a"
      },
      "source": [
        "print(quadratic_function(2))"
      ],
      "execution_count": 10,
      "outputs": [
        {
          "output_type": "stream",
          "name": "stdout",
          "text": [
            "0\n"
          ]
        }
      ]
    },
    {
      "cell_type": "code",
      "metadata": {
        "id": "ZatrHgOljlEj",
        "colab": {
          "base_uri": "https://localhost:8080/",
          "height": 291
        },
        "outputId": "89c99592-1fd2-423a-c7a1-efe1f33bf00d"
      },
      "source": [
        "x = np.arange(-5,5,0.1)\n",
        "y = quadratic_function(x)\n",
        "\n",
        "plt.plot(x,y)\n",
        "plt.xlabel('x')\n",
        "plt.ylabel('y')\n",
        "plt.title('Quadratic Function')\n",
        "plt.show()"
      ],
      "execution_count": 13,
      "outputs": [
        {
          "output_type": "display_data",
          "data": {
            "image/png": "[encoded data removed]",
            "text/plain": [
              "<Figure size 432x288 with 1 Axes>"
            ]
          },
          "metadata": {}
        }
      ]
    },
    {
      "cell_type": "markdown",
      "metadata": {
        "id": "nV_luTry6pAW"
      },
      "source": [
        "## 삼차함수(다항함수)  \n",
        "\n",
        "\n",
        "* $y = ax^3 + bx^2 + cx + d$"
      ]
    },
    {
      "cell_type": "code",
      "metadata": {
        "id": "Tw0-WtVP9Bcf"
      },
      "source": [
        "def cubic_function(x):\n",
        "    a = 4\n",
        "    b = 0\n",
        "    c = -1\n",
        "    d = -8\n",
        "\n",
        "    return a*x**3 + b*x**2 + c*x +d"
      ],
      "execution_count": 14,
      "outputs": []
    },
    {
      "cell_type": "code",
      "metadata": {
        "id": "tfKID_SZ9CIk",
        "colab": {
          "base_uri": "https://localhost:8080/"
        },
        "outputId": "ebbbb8c0-fe6b-4e4c-d2d7-20ed3729a337"
      },
      "source": [
        "print(cubic_function(3))"
      ],
      "execution_count": 15,
      "outputs": [
        {
          "output_type": "stream",
          "name": "stdout",
          "text": [
            "97\n"
          ]
        }
      ]
    },
    {
      "cell_type": "code",
      "metadata": {
        "id": "NRRU5pwf9DQD",
        "colab": {
          "base_uri": "https://localhost:8080/",
          "height": 291
        },
        "outputId": "c13d6e8d-d2ea-4dfd-f724-3ccd97e7bd4e"
      },
      "source": [
        "x = np.arange(-5,5,0.1)\n",
        "y = cubic_function(x)\n",
        "\n",
        "plt.plot(x,y)\n",
        "plt.xlabel('x')\n",
        "plt.ylabel('y')\n",
        "plt.title('cubic function')\n",
        "plt.show()"
      ],
      "execution_count": 16,
      "outputs": [
        {
          "output_type": "display_data",
          "data": {
            "image/png": "[encoded data removed]",
            "text/plain": [
              "<Figure size 432x288 with 1 Axes>"
            ]
          },
          "metadata": {}
        }
      ]
    },
    {
      "cell_type": "markdown",
      "metadata": {
        "id": "STP-0M2f9Fuv"
      },
      "source": [
        "### 함수의 최소값/최대값\n"
      ]
    },
    {
      "cell_type": "code",
      "metadata": {
        "id": "jHch00DA9HXS"
      },
      "source": [
        "def my_func(x):\n",
        "    a = 1\n",
        "    b = -3\n",
        "    c = 10\n",
        "    return a*x**2 + b * x + c"
      ],
      "execution_count": 17,
      "outputs": []
    },
    {
      "cell_type": "code",
      "metadata": {
        "id": "bJQPJ_SV9Jhd",
        "colab": {
          "base_uri": "https://localhost:8080/",
          "height": 291
        },
        "outputId": "f335f736-97f0-401b-d767-7bbe7a9d613d"
      },
      "source": [
        "x = np.arange(-10,10,0.1)\n",
        "y = my_func(x)\n",
        "\n",
        "plt.plot(x,y)\n",
        "plt.xlabel('x')\n",
        "plt.ylabel('y')\n",
        "plt.scatter(1.5,my_func(1.5))\n",
        "plt.text(1.5-1.5, my_func(1.5) + 10, 'min value of f(x)\\n({}, {})'.format(1.5, my_func(1.5)), fontsize=10)\n",
        "plt.title('my_func')\n",
        "plt.show()"
      ],
      "execution_count": 19,
      "outputs": [
        {
          "output_type": "display_data",
          "data": {
            "image/png": "[encoded data removed]",
            "text/plain": [
              "<Figure size 432x288 with 1 Axes>"
            ]
          },
          "metadata": {}
        }
      ]
    },
    {
      "cell_type": "code",
      "metadata": {
        "id": "09Nh3e3y9Kcw",
        "colab": {
          "base_uri": "https://localhost:8080/"
        },
        "outputId": "e7fde2db-5374-4b60-ef0c-6de52f92b86f"
      },
      "source": [
        "min_val = min(y)\n",
        "print(min_val)"
      ],
      "execution_count": 20,
      "outputs": [
        {
          "output_type": "stream",
          "name": "stdout",
          "text": [
            "7.75\n"
          ]
        }
      ]
    },
    {
      "cell_type": "markdown",
      "metadata": {
        "id": "AZlVs50-9Onr"
      },
      "source": [
        "### 특정 구간 내에서 최소값 구하기"
      ]
    },
    {
      "cell_type": "code",
      "metadata": {
        "id": "TPrV0Vu19Mdd"
      },
      "source": [
        "def get_minimum(x1, x2, f):\n",
        "    x = np.arange(x1, x2, 0.01)\n",
        "    y = f(x)\n",
        "\n",
        "    plt.plot(x,y)\n",
        "    plt.xlabel('x')\n",
        "    plt.ylabel('y')\n",
        "    plt.title('get_minimum')\n",
        "    plt.show()\n",
        "\n",
        "    return (min(y))"
      ],
      "execution_count": 21,
      "outputs": []
    },
    {
      "cell_type": "code",
      "metadata": {
        "id": "9y42Nkcz9QDo",
        "colab": {
          "base_uri": "https://localhost:8080/",
          "height": 309
        },
        "outputId": "ccfad2ae-3906-43ee-aed4-d99e186d6b49"
      },
      "source": [
        "print(get_minimum(1,4,my_func))"
      ],
      "execution_count": 23,
      "outputs": [
        {
          "output_type": "display_data",
          "data": {
            "image/png": "[encoded data removed]",
            "text/plain": [
              "<Figure size 432x288 with 1 Axes>"
            ]
          },
          "metadata": {}
        },
        {
          "output_type": "stream",
          "name": "stdout",
          "text": [
            "7.75\n"
          ]
        }
      ]
    },
    {
      "cell_type": "markdown",
      "metadata": {
        "id": "VlozpAHI9epU"
      },
      "source": [
        "## 지수함수 / 로그함수\n",
        "\n",
        "- 지수함수-로그함수는 역함수 관계 ($y=x$ 직선 대칭 단, 밑이 같을 때)\n",
        "- 파이썬으로 직접 구현 가능"
      ]
    },
    {
      "cell_type": "markdown",
      "metadata": {
        "id": "c_cCnmRlnI8R"
      },
      "source": [
        "## 지수함수\n",
        "\n",
        "- $y = a^x$ ($a \\ne 0$) (기본형)\n",
        "- $y = e^x$ ($e = 2.71828...$)"
      ]
    },
    {
      "cell_type": "code",
      "metadata": {
        "id": "YmlBk-u29gkx"
      },
      "source": [
        "def exponential_function(x):\n",
        "    a= 4\n",
        "    return a**x"
      ],
      "execution_count": 24,
      "outputs": []
    },
    {
      "cell_type": "code",
      "metadata": {
        "id": "LVHiUmUI9iO2",
        "colab": {
          "base_uri": "https://localhost:8080/"
        },
        "outputId": "4aff6c76-ccba-4971-c234-6aef2072a1eb"
      },
      "source": [
        "print(exponential_function(4))\n",
        "print(exponential_function(0))"
      ],
      "execution_count": 25,
      "outputs": [
        {
          "output_type": "stream",
          "name": "stdout",
          "text": [
            "256\n",
            "1\n"
          ]
        }
      ]
    },
    {
      "cell_type": "code",
      "metadata": {
        "id": "de0TQqLw9jam",
        "colab": {
          "base_uri": "https://localhost:8080/",
          "height": 276
        },
        "outputId": "3f1ac3e9-f4ed-483e-8a2b-29fb32fe82c0"
      },
      "source": [
        "x = np.arange(-3,2,0.1)\n",
        "y = exponential_function(x)\n",
        "\n",
        "plt.plot(x,y)\n",
        "plt.xlabel('x')\n",
        "plt.ylabel('y')\n",
        "plt.ylim(-1, 15)\n",
        "plt.xlim(-4,3)\n",
        "plt.show()"
      ],
      "execution_count": 26,
      "outputs": [
        {
          "output_type": "display_data",
          "data": {
            "image/png": "[encoded data removed]",
            "text/plain": [
              "<Figure size 432x288 with 1 Axes>"
            ]
          },
          "metadata": {}
        }
      ]
    },
    {
      "cell_type": "code",
      "metadata": {
        "id": "2o4szSgo9kZB"
      },
      "source": [
        "def exponential_function2(x):\n",
        "    a = 4\n",
        "    return math.pow(a,x)\n",
        "    \n"
      ],
      "execution_count": 27,
      "outputs": []
    },
    {
      "cell_type": "code",
      "metadata": {
        "id": "xD6z17nk9luY",
        "colab": {
          "base_uri": "https://localhost:8080/"
        },
        "outputId": "37702a99-df64-49a0-c034-6a14587df7da"
      },
      "source": [
        "print(exponential_function2(4))\n",
        "print(exponential_function2(0))"
      ],
      "execution_count": 29,
      "outputs": [
        {
          "output_type": "stream",
          "name": "stdout",
          "text": [
            "256.0\n",
            "1.0\n"
          ]
        }
      ]
    },
    {
      "cell_type": "markdown",
      "metadata": {
        "id": "6zH2mMgR9tBY"
      },
      "source": [
        "### 밑이 $e$인 지수함수 표현\n"
      ]
    },
    {
      "cell_type": "code",
      "metadata": {
        "id": "xTnAWxgH9sOr",
        "colab": {
          "base_uri": "https://localhost:8080/"
        },
        "outputId": "973e25d8-57ee-4355-af03-e94af35b68f1"
      },
      "source": [
        "print(math.exp(4))\n",
        "print(np.exp(4))"
      ],
      "execution_count": 30,
      "outputs": [
        {
          "output_type": "stream",
          "name": "stdout",
          "text": [
            "54.598150033144236\n",
            "54.598150033144236\n"
          ]
        }
      ]
    },
    {
      "cell_type": "markdown",
      "metadata": {
        "id": "CA-UVy3k9v8i"
      },
      "source": [
        "### 로그함수 \n",
        "\n",
        "  <img src=\"https://upload.wikimedia.org/wikipedia/commons/thumb/7/73/Logarithms.svg/630px-Logarithms.svg.png\" width=\"300\">\n",
        "\n",
        "- $y = log_a(x)$ ($a \\ne 1$) (기본형)\n",
        "- $y=log_{10}(x)$ (상용로그)\n",
        "- $y = ln(x)$ (밑이 $e$인 자연로그)"
      ]
    },
    {
      "cell_type": "code",
      "metadata": {
        "id": "lQh9kIaY9xSz",
        "colab": {
          "base_uri": "https://localhost:8080/"
        },
        "outputId": "4bb15c63-2afb-4f60-bea1-d006bdba0933"
      },
      "source": [
        "print(math.log(2,3))\n",
        "print(np.log2(4))\n",
        "print(np.log(4))"
      ],
      "execution_count": 32,
      "outputs": [
        {
          "output_type": "stream",
          "name": "stdout",
          "text": [
            "0.6309297535714574\n",
            "2.0\n",
            "1.3862943611198906\n"
          ]
        }
      ]
    },
    {
      "cell_type": "markdown",
      "metadata": {
        "id": "El2s8U9a90bP"
      },
      "source": [
        "### 역함수 관계\n",
        "- $y=x$ 대칭"
      ]
    },
    {
      "cell_type": "code",
      "metadata": {
        "id": "sSKK2zJc9zG9",
        "colab": {
          "base_uri": "https://localhost:8080/",
          "height": 280
        },
        "outputId": "471dffbe-3ccd-4c8a-af08-1c239845af78"
      },
      "source": [
        "x = np.arange(-1,5,0.01)\n",
        "y1 = np.exp(x)\n",
        "\n",
        "x2 = np.arange(0.000001, 5, 0.01)\n",
        "y2 = np.log(x2)\n",
        "\n",
        "y3 = x\n",
        "\n",
        "plt.plot(x, y1, 'r-', x2, y2, 'b-', x, y3, 'k--')\n",
        "\n",
        "plt.ylim(-2, 6)\n",
        "plt.axvline(x=0, color='k')\n",
        "plt.axhline(y=0, color='k')\n",
        "plt.xlabel('x')\n",
        "plt.ylabel('y')\n",
        "plt.show()"
      ],
      "execution_count": 35,
      "outputs": [
        {
          "output_type": "display_data",
          "data": {
            "image/png": "[encoded data removed]",
            "text/plain": [
              "<Figure size 432x288 with 1 Axes>"
            ]
          },
          "metadata": {}
        }
      ]
    },
    {
      "cell_type": "markdown",
      "metadata": {
        "id": "8L8-CoSw95RP"
      },
      "source": [
        "### 함수 조작\n",
        "- $y = -log_a(x)$와 $y = -log_a(1-x)$  \n",
        "  x=0.5 대칭\n",
        "- Logistic Regression을 위한 함수"
      ]
    },
    {
      "cell_type": "code",
      "metadata": {
        "id": "FVYLpUvz93Bd",
        "colab": {
          "base_uri": "https://localhost:8080/",
          "height": 137
        },
        "outputId": "69cef378-9f8c-4868-98d8-27f2d44cc4a3"
      },
      "source": [
        "x = np.arange(-10, 10, 0.01)\n",
        "y1 = -np.log(x)\n",
        "y2 = -np.log(1-x)\n",
        "\n",
        "plt.axvline(x=0, color='k')\n",
        "plt.axhline(y=0, color= 'k')\n",
        "\n",
        "plt.grid()\n",
        "plt.plot(x, y1, 'b-', x, y2, 'r-')\n",
        "plt.text(0.9, 2.0, 'y = -log(1-x)', fontsize=15)\n",
        "plt.text(0.1, 3, 'y=-log(x)', fontsize=15)\n",
        "plt.xlim(-0.3, 1.4)\n",
        "plt.ylim(-0.5, 4)\n",
        "plt.scatter(0.5, -np.log(0.5)\n",
        "plt.show()"
      ],
      "execution_count": 39,
      "outputs": [
        {
          "output_type": "error",
          "ename": "SyntaxError",
          "evalue": "ignored",
          "traceback": [
            "\u001b[0;36m  File \u001b[0;32m\"<ipython-input-39-e7608ab3d294>\"\u001b[0;36m, line \u001b[0;32m15\u001b[0m\n\u001b[0;31m    plt.show()\u001b[0m\n\u001b[0m      ^\u001b[0m\n\u001b[0;31mSyntaxError\u001b[0m\u001b[0;31m:\u001b[0m invalid syntax\n"
          ]
        }
      ]
    },
    {
      "cell_type": "markdown",
      "metadata": {
        "id": "KwTUKPFijOQW"
      },
      "source": [
        "## 극한\n",
        "- 극한에 대해서는 어떠한 식을 코드로 표현할 수 있다 정도로만 이해하며 참고\n",
        "- 극한에서 알아야 사실은 x가 어떤 값 a에 가까이 다가갈 때 a에 '한없이 가까이 간다'일 뿐, a에 도달하지 않는다는 점\n",
        "- 이를 표현할 때, 엡실론(epsilon)이라는 아주 작은 값(ex, 0.0001) 등으로 표현\n"
      ]
    },
    {
      "cell_type": "code",
      "metadata": {
        "id": "-nsOgiRA_F8T"
      },
      "source": [
        "from sympy import *\n",
        "init_printing()\n",
        "\n",
        "x,y,z = symbols('x y z')\n",
        "a, b, c, t = symbols('a b c t')\n"
      ],
      "execution_count": 41,
      "outputs": []
    },
    {
      "cell_type": "markdown",
      "metadata": {
        "id": "kc3wHOt9_Jne"
      },
      "source": [
        "- $\\lim_{x \\to 1} \\left(\\frac{x^3-1}{x-1} \\right) = 3$"
      ]
    },
    {
      "cell_type": "code",
      "metadata": {
        "id": "meQajCbp_HLj",
        "colab": {
          "base_uri": "https://localhost:8080/",
          "height": 312
        },
        "outputId": "8dd6b5d2-aa63-4288-d227-d6b7305b784d"
      },
      "source": [
        "print(f'극한값: {limit((x**3-1) / (x-1), x, 1)}')\n",
        "plot(((x**3-1) / (x-1)), xlim=(-5,5), ylim=(-1,10));"
      ],
      "execution_count": 46,
      "outputs": [
        {
          "output_type": "stream",
          "name": "stdout",
          "text": [
            "극한값: 3\n"
          ]
        },
        {
          "output_type": "display_data",
          "data": {
            "image/png": "[encoded data removed]",
            "text/plain": [
              "<Figure size 432x288 with 1 Axes>"
            ]
          },
          "metadata": {}
        }
      ]
    },
    {
      "cell_type": "markdown",
      "metadata": {
        "id": "xcTaDhMq_P9l"
      },
      "source": [
        "- $\\lim_{x \\to \\infty} \\left(\\frac{1+x}{x} \\right)$"
      ]
    },
    {
      "cell_type": "code",
      "metadata": {
        "id": "UMeweKeb_HHu",
        "colab": {
          "base_uri": "https://localhost:8080/",
          "height": 334
        },
        "outputId": "ec0acb35-ce49-4195-8796-4e1c9456235d"
      },
      "source": [
        "print(f'극한값: {limit( (1+x) /x, x, oo)}')\n",
        "plot( (1+x) / x, xlim=(-10, 10), ylim=(-5,5))"
      ],
      "execution_count": 47,
      "outputs": [
        {
          "output_type": "stream",
          "name": "stdout",
          "text": [
            "극한값: 1\n"
          ]
        },
        {
          "output_type": "display_data",
          "data": {
            "image/png": "[encoded data removed]",
            "text/plain": [
              "<Figure size 432x288 with 1 Axes>"
            ]
          },
          "metadata": {}
        },
        {
          "output_type": "execute_result",
          "data": {
            "text/plain": [
              "<sympy.plotting.plot.Plot at 0x7fe5fd641d90>"
            ]
          },
          "metadata": {},
          "execution_count": 47
        }
      ]
    },
    {
      "cell_type": "markdown",
      "metadata": {
        "id": "i6fhgMiY_UiM"
      },
      "source": [
        "- $\\lim_{x \\to 1}\\frac{\\sqrt{x+3}-2}{x-1} = \\frac {1}{4}$"
      ]
    },
    {
      "cell_type": "code",
      "metadata": {
        "id": "f4yRpj9T_HGb",
        "colab": {
          "base_uri": "https://localhost:8080/",
          "height": 334
        },
        "outputId": "e6afe4f3-585a-4b35-dd96-0aa8cfb05335"
      },
      "source": [
        "print(f'극한값: {limit( ( sqrt(x+3)-2) / (x-1), x, 1)}')\n",
        "plot( (sqrt(x+3)-2) / (x-1), xlim=(-5, 12), ylim=(-0.5, 1))"
      ],
      "execution_count": 52,
      "outputs": [
        {
          "output_type": "stream",
          "name": "stdout",
          "text": [
            "극한값: 1/4\n"
          ]
        },
        {
          "output_type": "display_data",
          "data": {
            "image/png": "[encoded data removed]",
            "text/plain": [
              "<Figure size 432x288 with 1 Axes>"
            ]
          },
          "metadata": {}
        },
        {
          "output_type": "execute_result",
          "data": {
            "text/plain": [
              "<sympy.plotting.plot.Plot at 0x7fe5fd547950>"
            ]
          },
          "metadata": {},
          "execution_count": 52
        }
      ]
    },
    {
      "cell_type": "markdown",
      "metadata": {
        "id": "DZpxldFb_gRt"
      },
      "source": [
        "### 삼각함수의 극한\n",
        "\n",
        "- $\\lim_{x \\to \\frac{\\pi}{2} +0}\\ \\tan x = -\\infty$\n",
        "- $\\lim_{x \\to \\frac{\\pi}{2} -0}\\ \\tan x = \\infty$"
      ]
    },
    {
      "cell_type": "code",
      "metadata": {
        "id": "aU3AHChm_HFP",
        "colab": {
          "base_uri": "https://localhost:8080/",
          "height": 137
        },
        "outputId": "f1941698-0a16-4cdf-d50f-65b93f412c7f"
      },
      "source": [
        "print(\"극한값: \", limit( tan(x), x, pi/2, '+'))\n",
        "print(\"극한값: \", limit( tan(x), x, pi/2, '-'))\n",
        "\n",
        "plot( (tan(x), xlim=(-3.14, 3.14), ylim=(-6, 6))"
      ],
      "execution_count": 56,
      "outputs": [
        {
          "output_type": "error",
          "ename": "SyntaxError",
          "evalue": "ignored",
          "traceback": [
            "\u001b[0;36m  File \u001b[0;32m\"<ipython-input-56-ea531189cc15>\"\u001b[0;36m, line \u001b[0;32m4\u001b[0m\n\u001b[0;31m    plot( (tan(x), xlim=(-3.14, 3.14), ylim=(-6,6))\u001b[0m\n\u001b[0m                       ^\u001b[0m\n\u001b[0;31mSyntaxError\u001b[0m\u001b[0;31m:\u001b[0m invalid syntax\n"
          ]
        }
      ]
    },
    {
      "cell_type": "markdown",
      "metadata": {
        "id": "XI5VZ-Uo_lwh"
      },
      "source": [
        "- $\\lim_{x \\to 0} \\left(\\frac{\\sin x}{x} \\right) = 1$"
      ]
    },
    {
      "cell_type": "code",
      "metadata": {
        "id": "G1iDoAXN_HAt"
      },
      "source": [
        "print(\"극한값:\", limit( (sin(x) / x, x, 0)))\n",
        "plot(sin(x)/x, ylim=)"
      ],
      "execution_count": null,
      "outputs": []
    },
    {
      "cell_type": "markdown",
      "metadata": {
        "id": "mNRmB3Jt_r7u"
      },
      "source": [
        "- $\\lim_{x \\to 0} x \\sin \\left(\\frac{1}{x} \\right)$"
      ]
    },
    {
      "cell_type": "code",
      "metadata": {
        "id": "_zThiSYC_G_m"
      },
      "source": [
        "print"
      ],
      "execution_count": null,
      "outputs": []
    },
    {
      "cell_type": "markdown",
      "metadata": {
        "id": "7EpNbQ7o_v5w"
      },
      "source": [
        "### 지수함수, 로그함수의 극한\n",
        "\n",
        "- $\\lim_{x \\to \\infty} \\left( \\frac{2^x - 2^{-x}}{2^x + 2^{-x}} \\right)$"
      ]
    },
    {
      "cell_type": "code",
      "metadata": {
        "id": "bMaFU3cS_G91",
        "colab": {
          "base_uri": "https://localhost:8080/",
          "height": 334
        },
        "outputId": "f4b0f2b1-6377-4016-a406-d5b16f7b5d86"
      },
      "source": [
        "print(\"극한값: \", limit( ( (2**x) - (2**(-x)) ) / ((2**x) + (2**(-x)) ),x, oo))\n",
        "plot( ( (2**x) - (2**(-x)) ) / ((2**x) + (2**(-x)) ), xlim=(-10,10), ylim=(-3,3))"
      ],
      "execution_count": 58,
      "outputs": [
        {
          "output_type": "stream",
          "name": "stdout",
          "text": [
            "극한값:  1\n"
          ]
        },
        {
          "output_type": "display_data",
          "data": {
            "image/png": "[encoded data removed]",
            "text/plain": [
              "<Figure size 432x288 with 1 Axes>"
            ]
          },
          "metadata": {}
        },
        {
          "output_type": "execute_result",
          "data": {
            "text/plain": [
              "<sympy.plotting.plot.Plot at 0x7fe5fd096c10>"
            ]
          },
          "metadata": {},
          "execution_count": 58
        }
      ]
    },
    {
      "cell_type": "markdown",
      "metadata": {
        "id": "gAFc-MvC_52f"
      },
      "source": [
        "- $lim_{x \\to \\infty} \\left (\\ log_2(x+1) - log_2(x) \\ \\right) = 0$"
      ]
    },
    {
      "cell_type": "code",
      "metadata": {
        "id": "tgVOUmht_G44",
        "colab": {
          "base_uri": "https://localhost:8080/",
          "height": 266
        },
        "outputId": "e3d1146f-a3c0-4d46-8e1f-e66b0dded63a"
      },
      "source": [
        "print(\"극한값: \", limit( np.log2(x+1) - np.log2(x), x, oo))"
      ],
      "execution_count": 59,
      "outputs": [
        {
          "output_type": "error",
          "ename": "TypeError",
          "evalue": "ignored",
          "traceback": [
            "\u001b[0;31m---------------------------------------------------------------------------\u001b[0m",
            "\u001b[0;31mAttributeError\u001b[0m                            Traceback (most recent call last)",
            "\u001b[0;31mAttributeError\u001b[0m: 'Add' object has no attribute 'log2'",
            "\nThe above exception was the direct cause of the following exception:\n",
            "\u001b[0;31mTypeError\u001b[0m                                 Traceback (most recent call last)",
            "\u001b[0;32m<ipython-input-59-c2d3731c3897>\u001b[0m in \u001b[0;36m<module>\u001b[0;34m()\u001b[0m\n\u001b[0;32m----> 1\u001b[0;31m \u001b[0mprint\u001b[0m\u001b[0;34m(\u001b[0m\u001b[0;34m\"극한값: \"\u001b[0m\u001b[0;34m,\u001b[0m \u001b[0mlimit\u001b[0m\u001b[0;34m(\u001b[0m \u001b[0mnp\u001b[0m\u001b[0;34m.\u001b[0m\u001b[0mlog2\u001b[0m\u001b[0;34m(\u001b[0m\u001b[0mx\u001b[0m\u001b[0;34m+\u001b[0m\u001b[0;36m1\u001b[0m\u001b[0;34m)\u001b[0m \u001b[0;34m-\u001b[0m \u001b[0mnp\u001b[0m\u001b[0;34m.\u001b[0m\u001b[0mlog2\u001b[0m\u001b[0;34m(\u001b[0m\u001b[0mx\u001b[0m\u001b[0;34m)\u001b[0m\u001b[0;34m,\u001b[0m \u001b[0mx\u001b[0m\u001b[0;34m,\u001b[0m \u001b[0moo\u001b[0m\u001b[0;34m)\u001b[0m\u001b[0;34m)\u001b[0m\u001b[0;34m\u001b[0m\u001b[0;34m\u001b[0m\u001b[0m\n\u001b[0m",
            "\u001b[0;31mTypeError\u001b[0m: loop of ufunc does not support argument 0 of type Add which has no callable log2 method"
          ]
        }
      ]
    },
    {
      "cell_type": "markdown",
      "metadata": {
        "id": "lNqX2xM2__Bd"
      },
      "source": [
        "### 자연로그(e)의 밑\n",
        "(1) $lim_{x \\to \\infty} \\ (1 + \\frac{1}{x})^x \\ = e$  \n",
        "(2) $\\lim_{x \\to \\infty} \\ (1 + \\frac{2}{x}^x) \\ = e^2$  \n",
        "(3) $\\lim_{x \\to 0} \\ \\frac{(e^x - 1)}{x} = 1$  \n",
        "(4) $\\lim_{x \\to 0} \\ \\frac{ln(1 + x)}{x} = 1$"
      ]
    },
    {
      "cell_type": "code",
      "metadata": {
        "id": "lDchRaWv_-yb"
      },
      "source": [
        ""
      ],
      "execution_count": null,
      "outputs": []
    },
    {
      "cell_type": "markdown",
      "metadata": {
        "id": "tDIHF6k-ACiA"
      },
      "source": [
        "## 미분\n",
        "- 어떤 한 순간의 변화량을 표시한 것"
      ]
    },
    {
      "cell_type": "markdown",
      "metadata": {
        "id": "cd2lfAH1hckk"
      },
      "source": [
        "### 미분과 기울기\n",
        "\n",
        "- 어떤 함수를 나타내는 그래프에서 한 점의 미분값(미분계수)를 구하는 것은 해당 점에서의 접선을 의미\n",
        "\n",
        "![](https://upload.wikimedia.org/wikipedia/commons/thumb/0/0f/Tangent_to_a_curve.svg/440px-Tangent_to_a_curve.svg.png)\n",
        "<br /><sub>출처: https://ko.wikipedia.org/wiki/%EB%AF%B8%EB%B6%84</sub>\n",
        "\n",
        "* 기울기는 **방향성**을 가짐\n",
        "  + 이용할 미분 식 (수치 미분)  \n",
        "      $\\frac{df(x)}{dx} = \\lim_{x \\to \\infty} \\frac{f(x+h) - f(x-h)}{2h}$\n",
        "\n",
        "* [주의] $ \\ h \\ $는 아주 작은 수를 뜻하는데, 예를 들어 $\\ 10e-50 \\ $ 정도의 수를 하면 파이썬은 이를 $0.0$으로 인식\n",
        "* 따라서, 딥러닝에서 아주 작은 수를 정할 때 $\\ 1e-4\\ $ 정도로 설정해도 무방"
      ]
    },
    {
      "cell_type": "code",
      "metadata": {
        "id": "a4JMZezv_Gz2"
      },
      "source": [
        "def numerical_differential(f, x):\n",
        "    h = 1e-4\n",
        "    return (f(x+h)- f(x-h) / (2*h))"
      ],
      "execution_count": 61,
      "outputs": []
    },
    {
      "cell_type": "markdown",
      "metadata": {
        "id": "b08DMLsVAHiy"
      },
      "source": [
        "### 함수 위의 점 $(a, b)$에서의 접선의 방정식\n",
        "\n",
        "  - 예제 : 점 (1, 7) 에서의 기울기\n"
      ]
    },
    {
      "cell_type": "code",
      "metadata": {
        "id": "2ilCobpGTT5J"
      },
      "source": [
        "def my_func(x):\n",
        "    return 2*x**2 + 3* x + 2"
      ],
      "execution_count": 62,
      "outputs": []
    },
    {
      "cell_type": "code",
      "metadata": {
        "id": "e3xhpjyNTVtJ"
      },
      "source": [
        "def linear_func(a, b, c, x):\n",
        "    return c*(x-a) + b\n"
      ],
      "execution_count": 64,
      "outputs": []
    },
    {
      "cell_type": "code",
      "metadata": {
        "id": "RpmBem5Z_Gx7",
        "colab": {
          "base_uri": "https://localhost:8080/",
          "height": 276
        },
        "outputId": "9a43b60f-085a-4e3e-8a73-ae5ccaaa9438"
      },
      "source": [
        "c = numerical_differential(my_func, 1)\n",
        "\n",
        "x = np.arange(-5,5,0.01)\n",
        "y = linear_func(1, my_func(1), c, x)\n",
        "\n",
        "plt.xlabel('x')\n",
        "plt.ylabel('y')\n",
        "plt.scatter(1, my_func(1))\n",
        "plt.plot(x, my_func(x), x, y, 'r-')\n",
        "plt.show()"
      ],
      "execution_count": 65,
      "outputs": [
        {
          "output_type": "display_data",
          "data": {
            "image/png": "[encoded data removed]",
            "text/plain": [
              "<Figure size 432x288 with 1 Axes>"
            ]
          },
          "metadata": {}
        }
      ]
    },
    {
      "cell_type": "markdown",
      "metadata": {
        "id": "S4zEKXvTAey8"
      },
      "source": [
        "### 미분 공식\n",
        "- $\\frac{d}{dx} (c) = 0\\ (c는 상수)$\n",
        "\n",
        "- $\\frac{d}{dx} [cf(x)] = cf^\\prime (x)$\n",
        "\n",
        "- $\\frac{d}{dx} [f(x) + g(x)] = f^\\prime(x) + g^\\prime(x)$\n",
        "\n",
        "- $\\frac{d}{dx} [f(x)-g(x)] = f^\\prime(x)\\ - \\ g^\\prime(x)$\n",
        "\n",
        "- $\\frac{d}{dx} [f(x)g(x)] = f(x)g^\\prime(x)\\ + \\ f^\\prime(x)g(x)\\ (곱셈공식)$\n",
        "\n",
        "- $\\frac{d}{dx} [\\frac{f(x)}{g(x)}] = \\frac{g(x)f^\\prime(x)\\ - \\ f(x)g^\\prime(x)}{[g(x)]^2}$\n",
        "\n",
        "- $\\frac{d}{dx} [x^n] = nx^n-1$"
      ]
    },
    {
      "cell_type": "markdown",
      "metadata": {
        "id": "dy1dyV7hAhqe"
      },
      "source": [
        "### 편미분\n",
        "- 변수가 1개짜리인 위의 수치미분과 달리, 변수가 2개 이상일 때의 미분법을 편미분이라 함\n",
        "- 다변수 함수에서 특정 변수를 제외한 나머지 변수는 상수로 처리하여 미분을 하는 것\n",
        "- 각 변수에 대해 미분 표시를 $\\sigma$를 통해 나타남\n",
        "- ex) $f(x_0, x_1) = x_0^2 + x_1^2$  \n"
      ]
    },
    {
      "cell_type": "code",
      "metadata": {
        "id": "P7Cchxfa_Gso"
      },
      "source": [
        ""
      ],
      "execution_count": null,
      "outputs": []
    },
    {
      "cell_type": "code",
      "metadata": {
        "id": "tOk4Z8hZ_GpT"
      },
      "source": [
        ""
      ],
      "execution_count": null,
      "outputs": []
    },
    {
      "cell_type": "markdown",
      "metadata": {
        "id": "tFAeJgghAnzt"
      },
      "source": [
        "- 예제1 : x0에 대한 편미분, $\\frac{\\sigma f}{\\sigma x_0}$"
      ]
    },
    {
      "cell_type": "code",
      "metadata": {
        "id": "TuQEesgO_Ggd"
      },
      "source": [
        ""
      ],
      "execution_count": null,
      "outputs": []
    },
    {
      "cell_type": "markdown",
      "metadata": {
        "id": "kC9BBcOPAqJ_"
      },
      "source": [
        "- 예제2 : x1에 대한 편미분, $\\frac{\\sigma f}{\\sigma x_1}$"
      ]
    },
    {
      "cell_type": "code",
      "metadata": {
        "id": "xli2kkOWApO5"
      },
      "source": [
        ""
      ],
      "execution_count": null,
      "outputs": []
    },
    {
      "cell_type": "markdown",
      "metadata": {
        "id": "DNh2TtSwAuzl"
      },
      "source": [
        "### 기울기(gradient)\n",
        "- 방향성을 가짐"
      ]
    },
    {
      "cell_type": "code",
      "metadata": {
        "id": "spMUYlpGAszI"
      },
      "source": [
        ""
      ],
      "execution_count": null,
      "outputs": []
    },
    {
      "cell_type": "code",
      "metadata": {
        "id": "jvZJxSGPAyAI"
      },
      "source": [
        ""
      ],
      "execution_count": null,
      "outputs": []
    },
    {
      "cell_type": "markdown",
      "metadata": {
        "id": "kE2ei5qYA1cF"
      },
      "source": [
        "### 기울기의 의미를 그래프로 확인\n",
        "* 기울기가 가장 낮은 장소(가운데)로부터 거리가 멀어질수록 기울기가 커짐\n",
        "* 기울기가 커진다는 것은 영향을 많이 받는다는 의미  \n",
        "* 기울기가 작다는 것은 영향을 적게 받는다는 의미"
      ]
    },
    {
      "cell_type": "code",
      "metadata": {
        "id": "zohJoPnHA0tH"
      },
      "source": [
        ""
      ],
      "execution_count": null,
      "outputs": []
    }
  ]
}