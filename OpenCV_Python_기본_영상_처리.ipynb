{
  "nbformat": 4,
  "nbformat_minor": 0,
  "metadata": {
    "colab": {
      "name": "OpenCV Python 기본 영상 처리.ipynb",
      "provenance": [],
      "collapsed_sections": [],
      "include_colab_link": true
    },
    "kernelspec": {
      "name": "python3",
      "display_name": "Python 3"
    },
    "language_info": {
      "name": "python"
    }
  },
  "cells": [
    {
      "cell_type": "markdown",
      "metadata": {
        "id": "view-in-github",
        "colab_type": "text"
      },
      "source": [
        "<a href=\"https://colab.research.google.com/github/woolozzx21/leesuan/blob/main/OpenCV_Python_%EA%B8%B0%EB%B3%B8_%EC%98%81%EC%83%81_%EC%B2%98%EB%A6%AC.ipynb\" target=\"_parent\"><img src=\"https://colab.research.google.com/assets/colab-badge.svg\" alt=\"Open In Colab\"/></a>"
      ]
    },
    {
      "cell_type": "code",
      "execution_count": null,
      "metadata": {
        "id": "D0C-_Cr2JZeL"
      },
      "outputs": [],
      "source": [
        "# 실습용 데이터 다운로드\n",
        "!git clone https://github.com/JinFree/OpenCV_in_Ubuntu\n",
        "\n",
        "# 기본 라이브러리 Import\n",
        "import cv2\n",
        "import numpy as np\n",
        "import os\n",
        "from google.colab.patches import cv2_imshow"
      ]
    },
    {
      "cell_type": "markdown",
      "source": [
        "## OpenCV Python 이미지 열기, 저장하기"
      ],
      "metadata": {
        "id": "h0D_lF4oKl5B"
      }
    },
    {
      "cell_type": "markdown",
      "source": [
        "### 이미지 열기\n",
        "\n",
        "\n",
        "\n",
        "```\n",
        "이미지 변수 = cv2.imread(이미지 경로, flag)\n",
        "```\n",
        "\n"
      ],
      "metadata": {
        "id": "8vX05t_AKrPC"
      }
    },
    {
      "cell_type": "code",
      "source": [
        "# flags: cv2.IMREAD_COLOR : BGR 순서의 3채널 이미지로 열림\n",
        "image_color = cv2.imread(\"/content/OpenCV_in_Ubuntu/Data/Lane_Detection_Images/solidWhiteCurve.jpg\", cv2.IMREAD_COLOR)\n",
        "cv2_imshow(image_color)"
      ],
      "metadata": {
        "id": "UhM1EV6cJmeg"
      },
      "execution_count": null,
      "outputs": []
    },
    {
      "cell_type": "code",
      "source": [
        "# flags: cv2.IMREAD_GRAYSCALE : 회색조 1채널 이미지로 열림\n",
        "image_gray = cv2.imread(\"/content/OpenCV_in_Ubuntu/Data/Lane_Detection_Images/solidWhiteCurve.jpg\", cv2.IMREAD_GRAYSCALE)\n",
        "cv2_imshow(image_gray)"
      ],
      "metadata": {
        "id": "-jid7tdAKKMB"
      },
      "execution_count": null,
      "outputs": []
    },
    {
      "cell_type": "code",
      "source": [
        "# flags: cv2.IMREAD_UNCHANGED : 1채널 회색조 이미지는 1채널로 열리고, 3채널 컬러 이미지는 3채널 BGR로 열림\n",
        "# 4채널 png 이미지인 경우 4채널로 열림\n",
        "image_origin = cv2.imread(\"/content/OpenCV_in_Ubuntu/Data/Lane_Detection_Images/solidWhiteCurve.jpg\", cv2.IMREAD_UNCHANGED)\n",
        "cv2_imshow(image_origin)"
      ],
      "metadata": {
        "id": "X0p5nLaTKQ0v"
      },
      "execution_count": null,
      "outputs": []
    },
    {
      "cell_type": "markdown",
      "source": [
        "### 이미지 저장하기\n",
        "\n",
        "\n",
        "\n",
        "```\n",
        "cv2.imwrite(저장 경로, 이미지 변수)\n",
        "```\n",
        "\n"
      ],
      "metadata": {
        "id": "i_nDKuv3K0hJ"
      }
    },
    {
      "cell_type": "markdown",
      "source": [
        "## 동영상 열기, 저장하기"
      ],
      "metadata": {
        "id": "mY18gHsXLIXU"
      }
    },
    {
      "cell_type": "markdown",
      "source": [
        "### 동영상 열기\n",
        "\n",
        "\n",
        "\n",
        "```\n",
        "비디오 캡처 클래스 = cv2.VideoCapture(비디오 경로)\n",
        "```\n",
        "\n"
      ],
      "metadata": {
        "id": "87qDUNQNLLOk"
      }
    },
    {
      "cell_type": "markdown",
      "source": [
        "### 동영상 저장하기\n",
        "\n",
        "\n",
        "\n",
        "```\n",
        "비디오 저장 클래스 = cv2.VideoWriter(저장할 동영상 경로, 코덱 정보, FPS 정보, 비디오 사이즈 정보, 3채널 여부)\n",
        "```\n",
        "\n"
      ],
      "metadata": {
        "id": "UkihvnPALYN0"
      }
    },
    {
      "cell_type": "code",
      "source": [
        "# 프레임 단위 영상처리를 위한 함수\n",
        "def frame_proocessing(frame):\n",
        "    output = np.copy(frame)\n",
        "    if len(output.shape) == 2: # 회색조 이미지인 경우 3채널로 변환하여 저장\n",
        "        output = cv2.cvtColor(frame, cv2.COLOR_GRAY2BGR)\n",
        "    return output\n",
        "\n",
        "def video_processing(openpath, savepath = None):\n",
        "    cap = cv2.VideoCapture(openpath)\n",
        "    if cap.isOpened():\n",
        "        print(\"Video Opened\")\n",
        "    else:\n",
        "        print(\"Video Not Opened\")\n",
        "        print(\"Program Abort\")\n",
        "        exit()\n",
        "    fps = cap.get(cv2.CAP_PROP_FPS)\n",
        "    width = int(cap.get(cv2.CAP_PROP_FRAME_WIDTH))\n",
        "    height = int(cap.get(cv2.CAP_PROP_FRAME_HEIGHT))\n",
        "    out = None\n",
        "    if savepath is not None:\n",
        "        fourcc = cv2.VideoWriter_fourcc(*'mp4v') # mp4 저장을 위한 코뎅\n",
        "        out = cv2.VideoWriter(savepath, fourcc, fps, (width, height), True) # 컬러 동영상 저장\n",
        "    while cap.isOpened():\n",
        "        # Capture frame-by-frame\n",
        "        ret, frame = cap.read()\n",
        "        if ret:\n",
        "            # Our operations on the frame come here\n",
        "            output = frame_proocessing(frame)\n",
        "            if out is not None:\n",
        "                # Write frame-by-frame\n",
        "                out.write(output)\n",
        "        else:\n",
        "            break\n",
        "    # When everything done, release the capture\n",
        "    cap.release()\n",
        "    if out is not None:\n",
        "        out.release()\n",
        "    return"
      ],
      "metadata": {
        "id": "CXdRJv1lKeN1"
      },
      "execution_count": null,
      "outputs": []
    },
    {
      "cell_type": "markdown",
      "source": [
        "### 비디오 재생을 위한 코드 뭉치\n",
        "\n",
        "\n",
        "```\n",
        "from IPython.display import HTML\n",
        "from base64 import b64encode\n",
        "video_path = 비디오 경로\n",
        "mp4 = open(video_path, \"rb\").read()\n",
        "data_url = \"data:video/mp4;base64,\" + b64encode(mp4).decode()\n",
        "HTML(f\"\"\"\n",
        "<video width=400 controls>\n",
        "<source src=\"{data_url}\" type=\"video/mp4\">\n",
        "</video>\n",
        "\"\"\")\n",
        "```\n",
        "\n"
      ],
      "metadata": {
        "id": "swO-vpw-Mxev"
      }
    },
    {
      "cell_type": "code",
      "source": [
        "# 비디오 보기\n",
        "from IPython.display import HTML\n",
        "from base64 import b64encode\n",
        "video_path = \"/content/OpenCV_in_Ubuntu/Data/Lane_Detection_Videos/solidWhiteRight.mp4\"\n",
        "mp4 = open(video_path, \"rb\").read()\n",
        "data_url = \"data:video/mp4;base64,\" + b64encode(mp4).decode()\n",
        "HTML(f\"\"\"\n",
        "<video width=400 controls>\n",
        "    <source src=\"{data_url}\" type=\"video/mp4\">\n",
        "</video>\n",
        "\"\"\")"
      ],
      "metadata": {
        "id": "YLIMazb5MbYh"
      },
      "execution_count": null,
      "outputs": []
    },
    {
      "cell_type": "code",
      "source": [
        "video_processing(video_path, \"/content/test.mp4\")"
      ],
      "metadata": {
        "id": "pp8aTDXaMmi6"
      },
      "execution_count": null,
      "outputs": []
    },
    {
      "cell_type": "code",
      "source": [
        "# 비디오 보기. 그러나 OpenCV에서 저장한 mp4 파일을 이 방식으로 열 수 없음.\n",
        "video_path = \"/content/test.mp4\"\n",
        "mp4 = open(video_path, \"rb\").read()\n",
        "data_url = \"data:video/mp4;base64,\" + b64encode(mp4).decode()\n",
        "HTML(f\"\"\"\n",
        "<video width=400 controls>\n",
        "    <source src=\"{data_url}\" type=\"video/mp4\">\n",
        "</video>\n",
        "\"\"\")"
      ],
      "metadata": {
        "id": "R0xFCfFWMl_G"
      },
      "execution_count": null,
      "outputs": []
    },
    {
      "cell_type": "code",
      "source": [
        ""
      ],
      "metadata": {
        "id": "wHVkEjLhNPLH"
      },
      "execution_count": null,
      "outputs": []
    }
  ]
}