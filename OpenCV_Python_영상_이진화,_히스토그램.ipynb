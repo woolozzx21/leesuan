{
  "nbformat": 4,
  "nbformat_minor": 0,
  "metadata": {
    "colab": {
      "name": "OpenCV_Python_영상_이진화, 히스토그램.ipynb",
      "provenance": [],
      "collapsed_sections": [],
      "include_colab_link": true
    },
    "kernelspec": {
      "name": "python3",
      "display_name": "Python 3"
    },
    "language_info": {
      "name": "python"
    }
  },
  "cells": [
    {
      "cell_type": "markdown",
      "metadata": {
        "id": "view-in-github",
        "colab_type": "text"
      },
      "source": [
        "<a href=\"https://colab.research.google.com/github/woolozzx21/leesuan/blob/main/OpenCV_Python_%EC%98%81%EC%83%81_%EC%9D%B4%EC%A7%84%ED%99%94%2C_%ED%9E%88%EC%8A%A4%ED%86%A0%EA%B7%B8%EB%9E%A8.ipynb\" target=\"_parent\"><img src=\"https://colab.research.google.com/assets/colab-badge.svg\" alt=\"Open In Colab\"/></a>"
      ]
    },
    {
      "cell_type": "code",
      "execution_count": null,
      "metadata": {
        "id": "-cgj8_z2S85y"
      },
      "outputs": [],
      "source": [
        "# 실습용 데이터 다운로드\n",
        "!git clone https://github.com/JinFree/OpenCV_in_Ubuntu\n",
        "\n",
        "# 기본 라이브러리 Import\n",
        "import cv2\n",
        "import numpy as np\n",
        "import os\n",
        "from google.colab.patches import cv2_imshow"
      ]
    },
    {
      "cell_type": "code",
      "source": [
        "# 컬러 이미지 열기\n",
        "image_color = cv2.imread(\"/content/OpenCV_in_Ubuntu/Data/Lane_Detection_Images/solidWhiteCurve.jpg\", cv2.IMREAD_COLOR)\n",
        "cv2_imshow(image_color)\n",
        "# 회색조 이미지 열기\n",
        "image_gray = cv2.imread(\"/content/OpenCV_in_Ubuntu/Data/Lane_Detection_Images/solidWhiteCurve.jpg\", cv2.IMREAD_GRAYSCALE)\n",
        "cv2_imshow(image_gray)"
      ],
      "metadata": {
        "id": "ZaQwNSm5TDbX"
      },
      "execution_count": null,
      "outputs": []
    },
    {
      "cell_type": "markdown",
      "source": [
        "###영상 이진화\n",
        "\n",
        "\n",
        "```\n",
        "thresh = 128\n",
        "maxval = 255\n",
        "flag = cv2.THRESH_BINARY\n",
        "ret, dst_image = cv2.threshold(src_image, thresh, maxval, flag)\n",
        "단, src_image는 1채널 회색조 이미지\n",
        "```\n",
        "\n",
        "[threshold flags](https://docs.opencv.org/4.x/d7/d4d/tutorial_py_thresholding.html)"
      ],
      "metadata": {
        "id": "gCBRqXB80br0"
      }
    },
    {
      "cell_type": "code",
      "source": [
        "image = np.zeros((512, 512), np.uint8)\n",
        "for i in range(0, 512):\n",
        "    for j in range(0, 256):\n",
        "        image[i, j] = j\n",
        "    for j in range(256, 512):\n",
        "        image[i, j] = 255-j\n",
        "cv2_imshow(image)"
      ],
      "metadata": {
        "id": "HxS9dj-31gw5"
      },
      "execution_count": null,
      "outputs": []
    },
    {
      "cell_type": "code",
      "source": [
        "thresh = 128\n",
        "maxval = 255\n",
        "flag = cv2.THRESH_BINARY\n",
        "ret, dst_image = cv2.threshold(image, thresh, maxval, flag)\n",
        "cv2_imshow(dst_image)"
      ],
      "metadata": {
        "id": "z3MSWXBk2gII"
      },
      "execution_count": null,
      "outputs": []
    },
    {
      "cell_type": "code",
      "source": [
        "flag = cv2.THRESH_BINARY_INV\n",
        "ret, dst_image = cv2.threshold(image, thresh, maxval, flag)\n",
        "cv2_imshow(dst_image)"
      ],
      "metadata": {
        "id": "sqTDjzH02CmA"
      },
      "execution_count": null,
      "outputs": []
    },
    {
      "cell_type": "code",
      "source": [
        "flag = cv2.THRESH_TRUNC\n",
        "ret, dst_image = cv2.threshold(image, thresh, maxval, flag)\n",
        "cv2_imshow(dst_image)"
      ],
      "metadata": {
        "id": "-7pXvhhs2mPP"
      },
      "execution_count": null,
      "outputs": []
    },
    {
      "cell_type": "code",
      "source": [
        "flag = cv2.THRESH_TOZERO\n",
        "ret, dst_image = cv2.threshold(image, thresh, maxval, flag)\n",
        "cv2_imshow(dst_image)"
      ],
      "metadata": {
        "id": "q3XBC2Lz2sXU"
      },
      "execution_count": null,
      "outputs": []
    },
    {
      "cell_type": "code",
      "source": [
        "flag = cv2.THRESH_TOZERO_INV\n",
        "ret, dst_image = cv2.threshold(image, thresh, maxval, flag)\n",
        "cv2_imshow(dst_image)"
      ],
      "metadata": {
        "id": "PeTrnjAX2tlU"
      },
      "execution_count": null,
      "outputs": []
    },
    {
      "cell_type": "markdown",
      "source": [
        "###히스토그램\n",
        "히스토그램 계산 후 그리는 함수\n",
        "\n",
        "\n",
        "```\n",
        "def computeHist(image, mask=None):\n",
        "    bins = np.arange(256).reshape(256,1)\n",
        "    if len(image.shape)==2:\n",
        "        h = np.zeros((300,256,1))\n",
        "        hist_item = cv2.calcHist([image],[0],None,[256],[0,255]) \n",
        "        cv2.normalize(hist_item,hist_item,0,255,cv2.NORM_MINMAX) \n",
        "        hist=np.int32(np.around(hist_item)) \n",
        "        pts = np.column_stack((bins,hist)) \n",
        "        cv2.polylines(h,[pts],False, 255)\n",
        "    else:\n",
        "        h = np.zeros((300,256,3))\n",
        "        color = [ (255,0,0),(0,255,0),(0,0,255) ] \n",
        "        for ch, col in enumerate(color): \n",
        "            hist_item = cv2.calcHist([image],[ch],None,[256],[0,255]) \n",
        "            cv2.normalize(hist_item,hist_item,0,255,cv2.NORM_MINMAX) \n",
        "            hist=np.int32(np.around(hist_item)) \n",
        "            pts = np.column_stack((bins,hist)) \n",
        "            cv2.polylines(h,[pts],False,col)\n",
        "    return np.flipud(h)\n",
        "```\n",
        "\n"
      ],
      "metadata": {
        "id": "bnucbHjQ2wrB"
      }
    },
    {
      "cell_type": "code",
      "source": [
        "def computeHist(image, mask=None):\n",
        "    bins = np.arange(256).reshape(256,1)\n",
        "    if len(image.shape)==2:\n",
        "        h = np.zeros((300,256,1))\n",
        "        hist_item = cv2.calcHist([image],[0],None,[256],[0,255]) \n",
        "        cv2.normalize(hist_item,hist_item,0,255,cv2.NORM_MINMAX) \n",
        "        hist=np.int32(np.around(hist_item)) \n",
        "        pts = np.column_stack((bins,hist)) \n",
        "        cv2.polylines(h,[pts],False, 255)\n",
        "    else:\n",
        "        h = np.zeros((300,256,3))\n",
        "        color = [ (255,0,0),(0,255,0),(0,0,255) ] \n",
        "        for ch, col in enumerate(color): \n",
        "            hist_item = cv2.calcHist([image],[ch],None,[256],[0,255]) \n",
        "            cv2.normalize(hist_item,hist_item,0,255,cv2.NORM_MINMAX) \n",
        "            hist=np.int32(np.around(hist_item)) \n",
        "            pts = np.column_stack((bins,hist)) \n",
        "            cv2.polylines(h,[pts],False,col)\n",
        "    return np.flipud(h)"
      ],
      "metadata": {
        "id": "InVG1wbbNTL_"
      },
      "execution_count": null,
      "outputs": []
    },
    {
      "cell_type": "code",
      "source": [
        "color_histogram = computeHist(image_color)\n",
        "cv2_imshow(image_color)\n",
        "cv2_imshow(color_histogram)"
      ],
      "metadata": {
        "id": "i24JI_VYNYPg"
      },
      "execution_count": null,
      "outputs": []
    },
    {
      "cell_type": "code",
      "source": [
        "gray_histogram = computeHist(image_gray)\n",
        "cv2_imshow(image_gray)\n",
        "cv2_imshow(gray_histogram)"
      ],
      "metadata": {
        "id": "Y4FKlucbNg4h"
      },
      "execution_count": null,
      "outputs": []
    },
    {
      "cell_type": "code",
      "source": [
        "image_hsv = cv2.cvtColor(image_color, cv2.COLOR_BGR2HSV)\n",
        "hsv_histogram = computeHist(image_hsv)\n",
        "cv2_imshow(image_hsv)\n",
        "cv2_imshow(hsv_histogram)"
      ],
      "metadata": {
        "id": "lQwcvQLONlSC"
      },
      "execution_count": null,
      "outputs": []
    },
    {
      "cell_type": "code",
      "source": [
        "image_hls = cv2.cvtColor(image_color, cv2.COLOR_BGR2HLS)\n",
        "hls_histogram = computeHist(image_hls)\n",
        "cv2_imshow(image_hls)\n",
        "cv2_imshow(hls_histogram)"
      ],
      "metadata": {
        "id": "HiUljGbBNs7I"
      },
      "execution_count": null,
      "outputs": []
    },
    {
      "cell_type": "markdown",
      "source": [
        "###히스토그램 균일화\n",
        "\n",
        "\n",
        "```\n",
        "히스토그램 균일화\n",
        "dst_image = cv2.equalizeHist(src_image)\n",
        "\n",
        "적응형 히스토그램 균일화\n",
        "clahe = cv2.createCLAHE(clipLimit = 2.0, tileGridSize=(8,8))\n",
        "dst_image = clahe.apply(src_image)\n",
        "\n",
        "단, 히스토그램 균일화는 회색조 이미지만 가능\n",
        "```\n",
        "\n",
        "\n"
      ],
      "metadata": {
        "id": "AancEz8bNKDe"
      }
    },
    {
      "cell_type": "code",
      "source": [
        "gray_equalized = cv2.equalizeHist(image_gray)\n",
        "cv2_imshow(gray_equalized)"
      ],
      "metadata": {
        "id": "--BcbaX1OpDE"
      },
      "execution_count": null,
      "outputs": []
    },
    {
      "cell_type": "code",
      "source": [
        "image_hsv = cv2.cvtColor(image_color, cv2.COLOR_BGR2HSV)\n",
        "h, s, v = cv2.split(image_hsv)\n",
        "\n",
        "h_eq = cv2.equalizeHist(h)\n",
        "s_eq = cv2.equalizeHist(s)\n",
        "v_eq = cv2.equalizeHist(v)\n",
        "\n",
        "image_hseqveq = cv2.merge((h, s_eq, v_eq))\n",
        "image_hsveq = cv2.merge((h, s, v_eq))\n",
        "image_hseqv = cv2.merge((h, s_eq, v))\n",
        "\n",
        "bgr_hseqveq = cv2.cvtColor(image_hseqveq, cv2.COLOR_HSV2BGR)\n",
        "bgr_hsveq = cv2.cvtColor(image_hsveq, cv2.COLOR_HSV2BGR)\n",
        "bgr_hseqv = cv2.cvtColor(image_hseqv, cv2.COLOR_HSV2BGR)\n",
        "\n",
        "cv2_imshow(bgr_hseqveq)\n",
        "cv2_imshow(bgr_hsveq)\n",
        "cv2_imshow(bgr_hseqv)"
      ],
      "metadata": {
        "id": "gNQeYba_O1xn"
      },
      "execution_count": null,
      "outputs": []
    },
    {
      "cell_type": "code",
      "source": [
        "image_hsv = cv2.cvtColor(image_color, cv2.COLOR_BGR2HSV)\n",
        "h, s, v = cv2.split(image_hsv)\n",
        "\n",
        "clahe = cv2.createCLAHE(clipLimit = 2.0, tileGridSize=(8,8))\n",
        "h_eq = clahe.apply(h)\n",
        "s_eq = clahe.apply(s)\n",
        "v_eq = clahe.apply(v)\n",
        "\n",
        "image_hseqveq = cv2.merge((h, s_eq, v_eq))\n",
        "image_hsveq = cv2.merge((h, s, v_eq))\n",
        "image_hseqv = cv2.merge((h, s_eq, v))\n",
        "\n",
        "bgr_hseqveq = cv2.cvtColor(image_hseqveq, cv2.COLOR_HSV2BGR)\n",
        "bgr_hsveq = cv2.cvtColor(image_hsveq, cv2.COLOR_HSV2BGR)\n",
        "bgr_hseqv = cv2.cvtColor(image_hseqv, cv2.COLOR_HSV2BGR)\n",
        "\n",
        "cv2_imshow(bgr_hseqveq)\n",
        "cv2_imshow(bgr_hsveq)\n",
        "cv2_imshow(bgr_hseqv)"
      ],
      "metadata": {
        "id": "xzSApYXjPkb0"
      },
      "execution_count": null,
      "outputs": []
    },
    {
      "cell_type": "markdown",
      "source": [
        "### 실습\n",
        "\n",
        "/content/OpenCV_in_Ubuntu/Data/Lane_Detection_Images/solidWhiteCurve.jpg\n",
        "\n",
        "위 경로의 이미지를 연 후, 아래 작업을 수행하시오.\n",
        "1. 이미지를 hls 색공간으로 바꾼 후, s채널에 대해 적응형 히스토그램 평활화를 수행하시오.\n",
        "2. 평활화된 s 채널에 대해 임계값 200, 최대값 255로 cv2.THRESH_BINARY를 수행하시오.\n",
        "3. l채널에 대해 임계값 110, 최대값 128로 cv2.THRESH_BINARY를 수행하시오.\n",
        "3. 이후 각 채널을 합친 후 bgr로 변환하여 확인하시오."
      ],
      "metadata": {
        "id": "5y-u3-TfWDij"
      }
    },
    {
      "cell_type": "code",
      "source": [
        "### 여기에 실습을 진행하세요."
      ],
      "metadata": {
        "id": "jw2phj59WLIb"
      },
      "execution_count": null,
      "outputs": []
    }
  ]
}